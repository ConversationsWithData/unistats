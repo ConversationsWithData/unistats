{
 "cells": [
  {
   "cell_type": "markdown",
   "id": "6578654e",
   "metadata": {},
   "source": [
    "# Simple Charting\n",
    "\n",
    "Thus far we have mainly been looking at simple data tables, but in mamy cases, a data visualisation may help us see patterns in the data more easily, particulalry when the data is appropriately sorted.\n",
    "\n",
    "Simple, \"direct\" charts directly represent the contents of a data table in a visual form.\n",
    "\n",
    "In many cases, we can plot simple charts directly from a *pandas* dataframe using the dataframe `.plot()` method. This has the advantage of being quick and self-contained, but it can be rather limiting at times compared to plotting libraries based more strictly on grammar of graphics approaches or that are specifically developed to support the production and presentation of statistical charts.\n",
    "\n",
    "We'll cover some other charting approaches in a later conversation, but for now, let's see what we can do with some quick and dirty *pandas* plots ([*chart visualisation* docs](https://pandas.pydata.org/docs/user_guide/visualization.html) and [`.plot()` docs](https://pandas.pydata.org/pandas-docs/stable/reference/api/pandas.DataFrame.plot.html)."
   ]
  },
  {
   "cell_type": "markdown",
   "id": "9208b07e",
   "metadata": {},
   "source": [
    "## Simple *pandas* charts\n",
    "\n",
    "Let's start with some simple bar charts that visualise course numbers. We've already seen how we can get a top 10 list of courses by course population a year in, so let's regenerate that data.\n",
    "\n",
    "We'll start by getting some base data in:"
   ]
  },
  {
   "cell_type": "code",
   "execution_count": 1,
   "id": "48ca47a5",
   "metadata": {},
   "outputs": [
    {
     "name": "stderr",
     "output_type": "stream",
     "text": [
      "/usr/local/lib/python3.9/site-packages/IPython/core/interactiveshell.py:3418: DtypeWarning: Columns (3,5,7,10,22,25,30,32) have mixed types.Specify dtype option on import or set low_memory=False.\n",
      "  exec(code_obj, self.user_global_ns, self.user_ns)\n"
     ]
    }
   ],
   "source": [
    "import pandas as pd\n",
    "\n",
    "ukprns = pd.read_excel(\"UNISTATS_UKPRN_lookup_20160901.xlsx\", \"Lookup\")\n",
    "\n",
    "course_df = pd.read_csv(\"on_2021_08_11_07_24_51/KISCOURSE.csv\")\n",
    "course_names = course_df[[\"UKPRN\", \"KISCOURSEID\", \"TITLE\"]].drop_duplicates()\n",
    "\n",
    "# Continuing student data\n",
    "cont_df = pd.read_csv(\"on_2021_08_11_07_24_51/CONTINUATION.csv\")\n",
    "\n",
    "# Filter to appropriate aggregation level\n",
    "cont_agg14_filter = cont_df[\"CONTAGG\"]==14\n",
    "cont_df = cont_df[cont_agg14_filter]\n",
    "\n",
    "# Drop null values\n",
    "cont_df.dropna(subset=[\"CONTPOP\"], inplace=True)"
   ]
  },
  {
   "cell_type": "markdown",
   "id": "7b3f8354",
   "metadata": {},
   "source": [
    "Set up various row and column filters:"
   ]
  },
  {
   "cell_type": "code",
   "execution_count": 2,
   "id": "fcc0bff2",
   "metadata": {},
   "outputs": [],
   "source": [
    "cont_df = pd.merge(cont_df, ukprns, on=\"UKPRN\")\n",
    "cont_df = pd.merge(cont_df, course_names, on=[\"UKPRN\", \"KISCOURSEID\"])\n",
    "\n",
    "cont_full_time_filter = cont_df[\"KISMODE\"]==1\n",
    "cont_course_cols = [\"NAME\", \"TITLE\", \"KISMODE\", \"CONTPOP\"]"
   ]
  },
  {
   "cell_type": "markdown",
   "id": "f602a4a6",
   "metadata": {},
   "source": [
    "Preview the top 10 data for full time courses with no aggregation:"
   ]
  },
  {
   "cell_type": "code",
   "execution_count": 3,
   "id": "3f152abc",
   "metadata": {},
   "outputs": [
    {
     "data": {
      "text/html": [
       "<div>\n",
       "<style scoped>\n",
       "    .dataframe tbody tr th:only-of-type {\n",
       "        vertical-align: middle;\n",
       "    }\n",
       "\n",
       "    .dataframe tbody tr th {\n",
       "        vertical-align: top;\n",
       "    }\n",
       "\n",
       "    .dataframe thead th {\n",
       "        text-align: right;\n",
       "    }\n",
       "</style>\n",
       "<table border=\"1\" class=\"dataframe\">\n",
       "  <thead>\n",
       "    <tr style=\"text-align: right;\">\n",
       "      <th></th>\n",
       "      <th>NAME</th>\n",
       "      <th>TITLE</th>\n",
       "      <th>KISMODE</th>\n",
       "      <th>CONTPOP</th>\n",
       "    </tr>\n",
       "  </thead>\n",
       "  <tbody>\n",
       "    <tr>\n",
       "      <th>7707</th>\n",
       "      <td>The University of Cambridge</td>\n",
       "      <td>Natural Sciences</td>\n",
       "      <td>1</td>\n",
       "      <td>580.0</td>\n",
       "    </tr>\n",
       "    <tr>\n",
       "      <th>8637</th>\n",
       "      <td>The University of the West of Scotland</td>\n",
       "      <td>Adult Nursing</td>\n",
       "      <td>1</td>\n",
       "      <td>570.0</td>\n",
       "    </tr>\n",
       "    <tr>\n",
       "      <th>2404</th>\n",
       "      <td>London School of Business and Management Limited</td>\n",
       "      <td>Business Management including Foundation Year</td>\n",
       "      <td>1</td>\n",
       "      <td>550.0</td>\n",
       "    </tr>\n",
       "    <tr>\n",
       "      <th>4110</th>\n",
       "      <td>The University of Liverpool</td>\n",
       "      <td>Law</td>\n",
       "      <td>1</td>\n",
       "      <td>530.0</td>\n",
       "    </tr>\n",
       "    <tr>\n",
       "      <th>1321</th>\n",
       "      <td>De Montfort University</td>\n",
       "      <td>Business and Management</td>\n",
       "      <td>1</td>\n",
       "      <td>480.0</td>\n",
       "    </tr>\n",
       "    <tr>\n",
       "      <th>6667</th>\n",
       "      <td>The University of Manchester</td>\n",
       "      <td>Medicine</td>\n",
       "      <td>1</td>\n",
       "      <td>435.0</td>\n",
       "    </tr>\n",
       "    <tr>\n",
       "      <th>4443</th>\n",
       "      <td>Birmingham City University</td>\n",
       "      <td>Nursing - Adult (January intake)</td>\n",
       "      <td>1</td>\n",
       "      <td>420.0</td>\n",
       "    </tr>\n",
       "    <tr>\n",
       "      <th>4446</th>\n",
       "      <td>Birmingham City University</td>\n",
       "      <td>Nursing - Adult (September intake)</td>\n",
       "      <td>1</td>\n",
       "      <td>420.0</td>\n",
       "    </tr>\n",
       "    <tr>\n",
       "      <th>4101</th>\n",
       "      <td>The University of Liverpool</td>\n",
       "      <td>Psychology</td>\n",
       "      <td>1</td>\n",
       "      <td>410.0</td>\n",
       "    </tr>\n",
       "    <tr>\n",
       "      <th>8518</th>\n",
       "      <td>The University of Newcastle-upon-Tyne</td>\n",
       "      <td>Medicine and Surgery</td>\n",
       "      <td>1</td>\n",
       "      <td>400.0</td>\n",
       "    </tr>\n",
       "  </tbody>\n",
       "</table>\n",
       "</div>"
      ],
      "text/plain": [
       "                                                  NAME  \\\n",
       "7707                       The University of Cambridge   \n",
       "8637            The University of the West of Scotland   \n",
       "2404  London School of Business and Management Limited   \n",
       "4110                       The University of Liverpool   \n",
       "1321                            De Montfort University   \n",
       "6667                      The University of Manchester   \n",
       "4443                        Birmingham City University   \n",
       "4446                        Birmingham City University   \n",
       "4101                       The University of Liverpool   \n",
       "8518             The University of Newcastle-upon-Tyne   \n",
       "\n",
       "                                              TITLE  KISMODE  CONTPOP  \n",
       "7707                               Natural Sciences        1    580.0  \n",
       "8637                                  Adult Nursing        1    570.0  \n",
       "2404  Business Management including Foundation Year        1    550.0  \n",
       "4110                                            Law        1    530.0  \n",
       "1321                        Business and Management        1    480.0  \n",
       "6667                                       Medicine        1    435.0  \n",
       "4443               Nursing - Adult (January intake)        1    420.0  \n",
       "4446             Nursing - Adult (September intake)        1    420.0  \n",
       "4101                                     Psychology        1    410.0  \n",
       "8518                           Medicine and Surgery        1    400.0  "
      ]
     },
     "execution_count": 3,
     "metadata": {},
     "output_type": "execute_result"
    }
   ],
   "source": [
    "cont_top10_df = cont_df[cont_full_time_filter] \\\n",
    "                    [cont_course_cols].sort_values(\"CONTPOP\", ascending=False).head(10)\n",
    "\n",
    "cont_top10_df"
   ]
  },
  {
   "cell_type": "markdown",
   "id": "f2f6845f",
   "metadata": {},
   "source": [
    "Since there is just a single numerical column, we can preview that as a bar chart:"
   ]
  },
  {
   "cell_type": "code",
   "execution_count": 4,
   "id": "729e2eee",
   "metadata": {},
   "outputs": [
    {
     "data": {
      "image/png": "[encoded data removed]",
      "text/plain": [
       "<Figure size 432x288 with 1 Axes>"
      ]
     },
     "metadata": {
      "needs_background": "light"
     },
     "output_type": "display_data"
    }
   ],
   "source": [
    "# The semicolon suppresses the display of some unwanted text \n",
    "cont_top10_df[\"CONTPOP\"].plot(kind=\"bar\");"
   ]
  },
  {
   "cell_type": "markdown",
   "id": "116332db",
   "metadata": {},
   "source": [
    "Alternatively, we can plot a horizontal bar chart:"
   ]
  },
  {
   "cell_type": "code",
   "execution_count": 5,
   "id": "1be6ac02",
   "metadata": {},
   "outputs": [
    {
     "data": {
      "image/png": "[encoded data removed]",
      "text/plain": [
       "<Figure size 432x288 with 1 Axes>"
      ]
     },
     "metadata": {
      "needs_background": "light"
     },
     "output_type": "display_data"
    }
   ],
   "source": [
    "cont_top10_df[\"CONTPOP\"].plot(kind=\"barh\");"
   ]
  },
  {
   "cell_type": "markdown",
   "id": "ad921d13",
   "metadata": {},
   "source": [
    "The descriptors for the bars are not very interesting - they correspond to the dataframe row index values. Let's create something more meaningful for the label:"
   ]
  },
  {
   "cell_type": "code",
   "execution_count": 6,
   "id": "ec709f90",
   "metadata": {},
   "outputs": [
    {
     "data": {
      "text/html": [
       "<div>\n",
       "<style scoped>\n",
       "    .dataframe tbody tr th:only-of-type {\n",
       "        vertical-align: middle;\n",
       "    }\n",
       "\n",
       "    .dataframe tbody tr th {\n",
       "        vertical-align: top;\n",
       "    }\n",
       "\n",
       "    .dataframe thead th {\n",
       "        text-align: right;\n",
       "    }\n",
       "</style>\n",
       "<table border=\"1\" class=\"dataframe\">\n",
       "  <thead>\n",
       "    <tr style=\"text-align: right;\">\n",
       "      <th></th>\n",
       "      <th>NAME</th>\n",
       "      <th>TITLE</th>\n",
       "      <th>KISMODE</th>\n",
       "      <th>CONTPOP</th>\n",
       "      <th>Label</th>\n",
       "    </tr>\n",
       "  </thead>\n",
       "  <tbody>\n",
       "    <tr>\n",
       "      <th>7707</th>\n",
       "      <td>The University of Cambridge</td>\n",
       "      <td>Natural Sciences</td>\n",
       "      <td>1</td>\n",
       "      <td>580.0</td>\n",
       "      <td>Natural Sciences (The University of Cambridge)</td>\n",
       "    </tr>\n",
       "    <tr>\n",
       "      <th>8637</th>\n",
       "      <td>The University of the West of Scotland</td>\n",
       "      <td>Adult Nursing</td>\n",
       "      <td>1</td>\n",
       "      <td>570.0</td>\n",
       "      <td>Adult Nursing (The University of the West of S...</td>\n",
       "    </tr>\n",
       "    <tr>\n",
       "      <th>2404</th>\n",
       "      <td>London School of Business and Management Limited</td>\n",
       "      <td>Business Management including Foundation Year</td>\n",
       "      <td>1</td>\n",
       "      <td>550.0</td>\n",
       "      <td>Business Management including Foundation Year ...</td>\n",
       "    </tr>\n",
       "    <tr>\n",
       "      <th>4110</th>\n",
       "      <td>The University of Liverpool</td>\n",
       "      <td>Law</td>\n",
       "      <td>1</td>\n",
       "      <td>530.0</td>\n",
       "      <td>Law (The University of Liverpool)</td>\n",
       "    </tr>\n",
       "    <tr>\n",
       "      <th>1321</th>\n",
       "      <td>De Montfort University</td>\n",
       "      <td>Business and Management</td>\n",
       "      <td>1</td>\n",
       "      <td>480.0</td>\n",
       "      <td>Business and Management (De Montfort University)</td>\n",
       "    </tr>\n",
       "    <tr>\n",
       "      <th>6667</th>\n",
       "      <td>The University of Manchester</td>\n",
       "      <td>Medicine</td>\n",
       "      <td>1</td>\n",
       "      <td>435.0</td>\n",
       "      <td>Medicine (The University of Manchester)</td>\n",
       "    </tr>\n",
       "    <tr>\n",
       "      <th>4443</th>\n",
       "      <td>Birmingham City University</td>\n",
       "      <td>Nursing - Adult (January intake)</td>\n",
       "      <td>1</td>\n",
       "      <td>420.0</td>\n",
       "      <td>Nursing - Adult (January intake) (Birmingham C...</td>\n",
       "    </tr>\n",
       "    <tr>\n",
       "      <th>4446</th>\n",
       "      <td>Birmingham City University</td>\n",
       "      <td>Nursing - Adult (September intake)</td>\n",
       "      <td>1</td>\n",
       "      <td>420.0</td>\n",
       "      <td>Nursing - Adult (September intake) (Birmingham...</td>\n",
       "    </tr>\n",
       "    <tr>\n",
       "      <th>4101</th>\n",
       "      <td>The University of Liverpool</td>\n",
       "      <td>Psychology</td>\n",
       "      <td>1</td>\n",
       "      <td>410.0</td>\n",
       "      <td>Psychology (The University of Liverpool)</td>\n",
       "    </tr>\n",
       "    <tr>\n",
       "      <th>8518</th>\n",
       "      <td>The University of Newcastle-upon-Tyne</td>\n",
       "      <td>Medicine and Surgery</td>\n",
       "      <td>1</td>\n",
       "      <td>400.0</td>\n",
       "      <td>Medicine and Surgery (The University of Newcas...</td>\n",
       "    </tr>\n",
       "  </tbody>\n",
       "</table>\n",
       "</div>"
      ],
      "text/plain": [
       "                                                  NAME  \\\n",
       "7707                       The University of Cambridge   \n",
       "8637            The University of the West of Scotland   \n",
       "2404  London School of Business and Management Limited   \n",
       "4110                       The University of Liverpool   \n",
       "1321                            De Montfort University   \n",
       "6667                      The University of Manchester   \n",
       "4443                        Birmingham City University   \n",
       "4446                        Birmingham City University   \n",
       "4101                       The University of Liverpool   \n",
       "8518             The University of Newcastle-upon-Tyne   \n",
       "\n",
       "                                              TITLE  KISMODE  CONTPOP  \\\n",
       "7707                               Natural Sciences        1    580.0   \n",
       "8637                                  Adult Nursing        1    570.0   \n",
       "2404  Business Management including Foundation Year        1    550.0   \n",
       "4110                                            Law        1    530.0   \n",
       "1321                        Business and Management        1    480.0   \n",
       "6667                                       Medicine        1    435.0   \n",
       "4443               Nursing - Adult (January intake)        1    420.0   \n",
       "4446             Nursing - Adult (September intake)        1    420.0   \n",
       "4101                                     Psychology        1    410.0   \n",
       "8518                           Medicine and Surgery        1    400.0   \n",
       "\n",
       "                                                  Label  \n",
       "7707     Natural Sciences (The University of Cambridge)  \n",
       "8637  Adult Nursing (The University of the West of S...  \n",
       "2404  Business Management including Foundation Year ...  \n",
       "4110                  Law (The University of Liverpool)  \n",
       "1321   Business and Management (De Montfort University)  \n",
       "6667            Medicine (The University of Manchester)  \n",
       "4443  Nursing - Adult (January intake) (Birmingham C...  \n",
       "4446  Nursing - Adult (September intake) (Birmingham...  \n",
       "4101           Psychology (The University of Liverpool)  \n",
       "8518  Medicine and Surgery (The University of Newcas...  "
      ]
     },
     "execution_count": 6,
     "metadata": {},
     "output_type": "execute_result"
    }
   ],
   "source": [
    "# Create a function using an f-string to make a label from the course title and course provider name\n",
    "labeller = lambda row: f'{row[\"TITLE\"]} ({row[\"NAME\"]})'\n",
    "\n",
    "# Apply the function to each row of the dataframe\n",
    "# Becuase there are multiple columns in the dataframe,\n",
    "# we need to use `axis=1` to specify we want apply the function to each row rather than column\n",
    "cont_top10_df[\"Label\"] = cont_top10_df.apply(labeller, axis=1)\n",
    "\n",
    "cont_top10_df"
   ]
  },
  {
   "cell_type": "markdown",
   "id": "b5499e06",
   "metadata": {},
   "source": [
    "We can then apply this as the row indices:"
   ]
  },
  {
   "cell_type": "code",
   "execution_count": 7,
   "id": "50e9f720",
   "metadata": {},
   "outputs": [
    {
     "data": {
      "text/html": [
       "<div>\n",
       "<style scoped>\n",
       "    .dataframe tbody tr th:only-of-type {\n",
       "        vertical-align: middle;\n",
       "    }\n",
       "\n",
       "    .dataframe tbody tr th {\n",
       "        vertical-align: top;\n",
       "    }\n",
       "\n",
       "    .dataframe thead th {\n",
       "        text-align: right;\n",
       "    }\n",
       "</style>\n",
       "<table border=\"1\" class=\"dataframe\">\n",
       "  <thead>\n",
       "    <tr style=\"text-align: right;\">\n",
       "      <th></th>\n",
       "      <th>NAME</th>\n",
       "      <th>TITLE</th>\n",
       "      <th>KISMODE</th>\n",
       "      <th>CONTPOP</th>\n",
       "    </tr>\n",
       "    <tr>\n",
       "      <th>Label</th>\n",
       "      <th></th>\n",
       "      <th></th>\n",
       "      <th></th>\n",
       "      <th></th>\n",
       "    </tr>\n",
       "  </thead>\n",
       "  <tbody>\n",
       "    <tr>\n",
       "      <th>Natural Sciences (The University of Cambridge)</th>\n",
       "      <td>The University of Cambridge</td>\n",
       "      <td>Natural Sciences</td>\n",
       "      <td>1</td>\n",
       "      <td>580.0</td>\n",
       "    </tr>\n",
       "    <tr>\n",
       "      <th>Adult Nursing (The University of the West of Scotland)</th>\n",
       "      <td>The University of the West of Scotland</td>\n",
       "      <td>Adult Nursing</td>\n",
       "      <td>1</td>\n",
       "      <td>570.0</td>\n",
       "    </tr>\n",
       "    <tr>\n",
       "      <th>Business Management including Foundation Year (London School of Business and Management Limited)</th>\n",
       "      <td>London School of Business and Management Limited</td>\n",
       "      <td>Business Management including Foundation Year</td>\n",
       "      <td>1</td>\n",
       "      <td>550.0</td>\n",
       "    </tr>\n",
       "    <tr>\n",
       "      <th>Law (The University of Liverpool)</th>\n",
       "      <td>The University of Liverpool</td>\n",
       "      <td>Law</td>\n",
       "      <td>1</td>\n",
       "      <td>530.0</td>\n",
       "    </tr>\n",
       "    <tr>\n",
       "      <th>Business and Management (De Montfort University)</th>\n",
       "      <td>De Montfort University</td>\n",
       "      <td>Business and Management</td>\n",
       "      <td>1</td>\n",
       "      <td>480.0</td>\n",
       "    </tr>\n",
       "    <tr>\n",
       "      <th>Medicine (The University of Manchester)</th>\n",
       "      <td>The University of Manchester</td>\n",
       "      <td>Medicine</td>\n",
       "      <td>1</td>\n",
       "      <td>435.0</td>\n",
       "    </tr>\n",
       "    <tr>\n",
       "      <th>Nursing - Adult (January intake) (Birmingham City University)</th>\n",
       "      <td>Birmingham City University</td>\n",
       "      <td>Nursing - Adult (January intake)</td>\n",
       "      <td>1</td>\n",
       "      <td>420.0</td>\n",
       "    </tr>\n",
       "    <tr>\n",
       "      <th>Nursing - Adult (September intake) (Birmingham City University)</th>\n",
       "      <td>Birmingham City University</td>\n",
       "      <td>Nursing - Adult (September intake)</td>\n",
       "      <td>1</td>\n",
       "      <td>420.0</td>\n",
       "    </tr>\n",
       "    <tr>\n",
       "      <th>Psychology (The University of Liverpool)</th>\n",
       "      <td>The University of Liverpool</td>\n",
       "      <td>Psychology</td>\n",
       "      <td>1</td>\n",
       "      <td>410.0</td>\n",
       "    </tr>\n",
       "    <tr>\n",
       "      <th>Medicine and Surgery (The University of Newcastle-upon-Tyne)</th>\n",
       "      <td>The University of Newcastle-upon-Tyne</td>\n",
       "      <td>Medicine and Surgery</td>\n",
       "      <td>1</td>\n",
       "      <td>400.0</td>\n",
       "    </tr>\n",
       "  </tbody>\n",
       "</table>\n",
       "</div>"
      ],
      "text/plain": [
       "                                                                                                NAME  \\\n",
       "Label                                                                                                  \n",
       "Natural Sciences (The University of Cambridge)                           The University of Cambridge   \n",
       "Adult Nursing (The University of the West of Sc...            The University of the West of Scotland   \n",
       "Business Management including Foundation Year (...  London School of Business and Management Limited   \n",
       "Law (The University of Liverpool)                                        The University of Liverpool   \n",
       "Business and Management (De Montfort University)                              De Montfort University   \n",
       "Medicine (The University of Manchester)                                 The University of Manchester   \n",
       "Nursing - Adult (January intake) (Birmingham Ci...                        Birmingham City University   \n",
       "Nursing - Adult (September intake) (Birmingham ...                        Birmingham City University   \n",
       "Psychology (The University of Liverpool)                                 The University of Liverpool   \n",
       "Medicine and Surgery (The University of Newcast...             The University of Newcastle-upon-Tyne   \n",
       "\n",
       "                                                                                            TITLE  \\\n",
       "Label                                                                                               \n",
       "Natural Sciences (The University of Cambridge)                                   Natural Sciences   \n",
       "Adult Nursing (The University of the West of Sc...                                  Adult Nursing   \n",
       "Business Management including Foundation Year (...  Business Management including Foundation Year   \n",
       "Law (The University of Liverpool)                                                             Law   \n",
       "Business and Management (De Montfort University)                          Business and Management   \n",
       "Medicine (The University of Manchester)                                                  Medicine   \n",
       "Nursing - Adult (January intake) (Birmingham Ci...               Nursing - Adult (January intake)   \n",
       "Nursing - Adult (September intake) (Birmingham ...             Nursing - Adult (September intake)   \n",
       "Psychology (The University of Liverpool)                                               Psychology   \n",
       "Medicine and Surgery (The University of Newcast...                           Medicine and Surgery   \n",
       "\n",
       "                                                    KISMODE  CONTPOP  \n",
       "Label                                                                 \n",
       "Natural Sciences (The University of Cambridge)            1    580.0  \n",
       "Adult Nursing (The University of the West of Sc...        1    570.0  \n",
       "Business Management including Foundation Year (...        1    550.0  \n",
       "Law (The University of Liverpool)                         1    530.0  \n",
       "Business and Management (De Montfort University)          1    480.0  \n",
       "Medicine (The University of Manchester)                   1    435.0  \n",
       "Nursing - Adult (January intake) (Birmingham Ci...        1    420.0  \n",
       "Nursing - Adult (September intake) (Birmingham ...        1    420.0  \n",
       "Psychology (The University of Liverpool)                  1    410.0  \n",
       "Medicine and Surgery (The University of Newcast...        1    400.0  "
      ]
     },
     "execution_count": 7,
     "metadata": {},
     "output_type": "execute_result"
    }
   ],
   "source": [
    "cont_top10_df.set_index(\"Label\", inplace=True)\n",
    "\n",
    "cont_top10_df"
   ]
  },
  {
   "cell_type": "markdown",
   "id": "1c86e6ca",
   "metadata": {},
   "source": [
    "And if we plot the table again, these labels will be used for the chart labels:"
   ]
  },
  {
   "cell_type": "code",
   "execution_count": 8,
   "id": "aabde3ae",
   "metadata": {},
   "outputs": [
    {
     "data": {
      "image/png": "[encoded data removed]",
      "text/plain": [
       "<Figure size 432x288 with 1 Axes>"
      ]
     },
     "metadata": {
      "needs_background": "light"
     },
     "output_type": "display_data"
    }
   ],
   "source": [
    "cont_top10_df[\"CONTPOP\"].plot(kind=\"barh\");"
   ]
  },
  {
   "cell_type": "markdown",
   "id": "e4d1e6db",
   "metadata": {},
   "source": [
    "The chart's a bit naff, but it's a chart...\n",
    "\n",
    "If we add in some entry level data, we can plot the entry and continuation data next to each other (note that we need to make sure we make a fair comparison by ensuring that data is merged in at the correct aggregation level [h/t DK]):"
   ]
  },
  {
   "cell_type": "code",
   "execution_count": 11,
   "id": "f35ab66b",
   "metadata": {},
   "outputs": [],
   "source": [
    "entry_df = pd.read_csv(\"on_2021_08_11_07_24_51/ENTRY.csv\")\n",
    "\n",
    "# Filter to appropriate aggregation level\n",
    "#entry_agg14_filter = entry_df[\"ENTAGG\"]==14\n",
    "#entry_df = entry_df[cont_agg14_filter]\n",
    "#Or we can merge on this...\n",
    "\n",
    "# cont_df was already at agg14 level\n",
    "cont_df = pd.merge(cont_df, entry_df[[\"UKPRN\", \"KISCOURSEID\", \"ENTPOP\", \"ENTAGG\"]],\n",
    "                   left_on=[\"UKPRN\", \"KISCOURSEID\", \"CONTAGG\"],\n",
    "                   right_on=[\"UKPRN\", \"KISCOURSEID\", \"ENTAGG\"])\n",
    "\n",
    "# Add the extra column to out column filter\n",
    "cont_course_cols.append(\"ENTPOP\")"
   ]
  },
  {
   "cell_type": "code",
   "execution_count": 12,
   "id": "a9d19c20",
   "metadata": {},
   "outputs": [
    {
     "data": {
      "text/html": [
       "<div>\n",
       "<style scoped>\n",
       "    .dataframe tbody tr th:only-of-type {\n",
       "        vertical-align: middle;\n",
       "    }\n",
       "\n",
       "    .dataframe tbody tr th {\n",
       "        vertical-align: top;\n",
       "    }\n",
       "\n",
       "    .dataframe thead th {\n",
       "        text-align: right;\n",
       "    }\n",
       "</style>\n",
       "<table border=\"1\" class=\"dataframe\">\n",
       "  <thead>\n",
       "    <tr style=\"text-align: right;\">\n",
       "      <th></th>\n",
       "      <th>NAME</th>\n",
       "      <th>TITLE</th>\n",
       "      <th>KISMODE</th>\n",
       "      <th>CONTPOP</th>\n",
       "      <th>ENTPOP</th>\n",
       "    </tr>\n",
       "    <tr>\n",
       "      <th>Label</th>\n",
       "      <th></th>\n",
       "      <th></th>\n",
       "      <th></th>\n",
       "      <th></th>\n",
       "      <th></th>\n",
       "    </tr>\n",
       "  </thead>\n",
       "  <tbody>\n",
       "    <tr>\n",
       "      <th>Natural Sciences (The University of Cambridge)</th>\n",
       "      <td>The University of Cambridge</td>\n",
       "      <td>Natural Sciences</td>\n",
       "      <td>1</td>\n",
       "      <td>580.0</td>\n",
       "      <td>565.0</td>\n",
       "    </tr>\n",
       "    <tr>\n",
       "      <th>Adult Nursing (The University of the West of Scotland)</th>\n",
       "      <td>The University of the West of Scotland</td>\n",
       "      <td>Adult Nursing</td>\n",
       "      <td>1</td>\n",
       "      <td>570.0</td>\n",
       "      <td>605.0</td>\n",
       "    </tr>\n",
       "    <tr>\n",
       "      <th>Business Management including Foundation Year (London School of Business and Management Limited)</th>\n",
       "      <td>London School of Business and Management Limited</td>\n",
       "      <td>Business Management including Foundation Year</td>\n",
       "      <td>1</td>\n",
       "      <td>550.0</td>\n",
       "      <td>805.0</td>\n",
       "    </tr>\n",
       "    <tr>\n",
       "      <th>Law (The University of Liverpool)</th>\n",
       "      <td>The University of Liverpool</td>\n",
       "      <td>Law</td>\n",
       "      <td>1</td>\n",
       "      <td>530.0</td>\n",
       "      <td>465.0</td>\n",
       "    </tr>\n",
       "    <tr>\n",
       "      <th>Business and Management (De Montfort University)</th>\n",
       "      <td>De Montfort University</td>\n",
       "      <td>Business and Management</td>\n",
       "      <td>1</td>\n",
       "      <td>480.0</td>\n",
       "      <td>395.0</td>\n",
       "    </tr>\n",
       "    <tr>\n",
       "      <th>Medicine (The University of Manchester)</th>\n",
       "      <td>The University of Manchester</td>\n",
       "      <td>Medicine</td>\n",
       "      <td>1</td>\n",
       "      <td>435.0</td>\n",
       "      <td>455.0</td>\n",
       "    </tr>\n",
       "    <tr>\n",
       "      <th>Nursing - Adult (January intake) (Birmingham City University)</th>\n",
       "      <td>Birmingham City University</td>\n",
       "      <td>Nursing - Adult (January intake)</td>\n",
       "      <td>1</td>\n",
       "      <td>420.0</td>\n",
       "      <td>415.0</td>\n",
       "    </tr>\n",
       "    <tr>\n",
       "      <th>Nursing - Adult (September intake) (Birmingham City University)</th>\n",
       "      <td>Birmingham City University</td>\n",
       "      <td>Nursing - Adult (September intake)</td>\n",
       "      <td>1</td>\n",
       "      <td>420.0</td>\n",
       "      <td>415.0</td>\n",
       "    </tr>\n",
       "    <tr>\n",
       "      <th>Psychology (The University of Liverpool)</th>\n",
       "      <td>The University of Liverpool</td>\n",
       "      <td>Psychology</td>\n",
       "      <td>1</td>\n",
       "      <td>410.0</td>\n",
       "      <td>305.0</td>\n",
       "    </tr>\n",
       "    <tr>\n",
       "      <th>Medicine and Surgery (The University of Newcastle-upon-Tyne)</th>\n",
       "      <td>The University of Newcastle-upon-Tyne</td>\n",
       "      <td>Medicine and Surgery</td>\n",
       "      <td>1</td>\n",
       "      <td>400.0</td>\n",
       "      <td>415.0</td>\n",
       "    </tr>\n",
       "  </tbody>\n",
       "</table>\n",
       "</div>"
      ],
      "text/plain": [
       "                                                                                                NAME  \\\n",
       "Label                                                                                                  \n",
       "Natural Sciences (The University of Cambridge)                           The University of Cambridge   \n",
       "Adult Nursing (The University of the West of Sc...            The University of the West of Scotland   \n",
       "Business Management including Foundation Year (...  London School of Business and Management Limited   \n",
       "Law (The University of Liverpool)                                        The University of Liverpool   \n",
       "Business and Management (De Montfort University)                              De Montfort University   \n",
       "Medicine (The University of Manchester)                                 The University of Manchester   \n",
       "Nursing - Adult (January intake) (Birmingham Ci...                        Birmingham City University   \n",
       "Nursing - Adult (September intake) (Birmingham ...                        Birmingham City University   \n",
       "Psychology (The University of Liverpool)                                 The University of Liverpool   \n",
       "Medicine and Surgery (The University of Newcast...             The University of Newcastle-upon-Tyne   \n",
       "\n",
       "                                                                                            TITLE  \\\n",
       "Label                                                                                               \n",
       "Natural Sciences (The University of Cambridge)                                   Natural Sciences   \n",
       "Adult Nursing (The University of the West of Sc...                                  Adult Nursing   \n",
       "Business Management including Foundation Year (...  Business Management including Foundation Year   \n",
       "Law (The University of Liverpool)                                                             Law   \n",
       "Business and Management (De Montfort University)                          Business and Management   \n",
       "Medicine (The University of Manchester)                                                  Medicine   \n",
       "Nursing - Adult (January intake) (Birmingham Ci...               Nursing - Adult (January intake)   \n",
       "Nursing - Adult (September intake) (Birmingham ...             Nursing - Adult (September intake)   \n",
       "Psychology (The University of Liverpool)                                               Psychology   \n",
       "Medicine and Surgery (The University of Newcast...                           Medicine and Surgery   \n",
       "\n",
       "                                                    KISMODE  CONTPOP  ENTPOP  \n",
       "Label                                                                         \n",
       "Natural Sciences (The University of Cambridge)            1    580.0   565.0  \n",
       "Adult Nursing (The University of the West of Sc...        1    570.0   605.0  \n",
       "Business Management including Foundation Year (...        1    550.0   805.0  \n",
       "Law (The University of Liverpool)                         1    530.0   465.0  \n",
       "Business and Management (De Montfort University)          1    480.0   395.0  \n",
       "Medicine (The University of Manchester)                   1    435.0   455.0  \n",
       "Nursing - Adult (January intake) (Birmingham Ci...        1    420.0   415.0  \n",
       "Nursing - Adult (September intake) (Birmingham ...        1    420.0   415.0  \n",
       "Psychology (The University of Liverpool)                  1    410.0   305.0  \n",
       "Medicine and Surgery (The University of Newcast...        1    400.0   415.0  "
      ]
     },
     "execution_count": 12,
     "metadata": {},
     "output_type": "execute_result"
    }
   ],
   "source": [
    "# We also need to reset the cont_full_time_filter\n",
    "cont_full_time_filter = cont_full_time_filter = cont_df[\"KISMODE\"]==1\n",
    "\n",
    "cont_top10_df2 = cont_df[cont_full_time_filter] \\\n",
    "                    [cont_course_cols].sort_values(\"CONTPOP\", ascending=False).head(10)\n",
    "\n",
    "cont_top10_df2[\"Label\"] = cont_top10_df2.apply(labeller, axis=1)\n",
    "\n",
    "cont_top10_df2.set_index(\"Label\", inplace=True)\n",
    "\n",
    "cont_top10_df2"
   ]
  },
  {
   "cell_type": "markdown",
   "id": "d69b159e",
   "metadata": {},
   "source": [
    "Now let's plot the bar chart against the `ENTRY` and `CONTINUATION` populations:"
   ]
  },
  {
   "cell_type": "code",
   "execution_count": 13,
   "id": "5a0466aa",
   "metadata": {},
   "outputs": [
    {
     "data": {
      "image/png": "[encoded data removed]",
      "text/plain": [
       "<Figure size 432x288 with 1 Axes>"
      ]
     },
     "metadata": {
      "needs_background": "light"
     },
     "output_type": "display_data"
    }
   ],
   "source": [
    "cont_top10_df2[[\"CONTPOP\", \"ENTPOP\"]].plot(kind=\"barh\");"
   ]
  },
  {
   "cell_type": "markdown",
   "id": "d5830c8e",
   "metadata": {},
   "source": [
    "A couple of things immediately jump out at us from this data: first, there's a large drop out from the Business Management course offered by the London School of Business and Management that includes the Foundation year. Secondly, in several cases, the courses seem to have more students continuing them than started them, presumably as a result of additional students moving onto those courses after the first year?\n",
    "\n",
    "A scatter plot helps us see this relationship in more detail. Consider the top 100 courses:"
   ]
  },
  {
   "cell_type": "code",
   "execution_count": 14,
   "id": "a0d3369e",
   "metadata": {},
   "outputs": [
    {
     "data": {
      "image/png": "[encoded data removed]",
      "text/plain": [
       "<Figure size 432x288 with 1 Axes>"
      ]
     },
     "metadata": {
      "needs_background": "light"
     },
     "output_type": "display_data"
    }
   ],
   "source": [
    "cont_df[cont_full_time_filter] \\\n",
    "                    [cont_course_cols].sort_values(\"CONTPOP\", ascending=False) \\\n",
    "                    .head(100).plot(kind=\"scatter\", x=\"CONTPOP\", y=\"ENTPOP\");"
   ]
  },
  {
   "cell_type": "markdown",
   "id": "ab35f5a1",
   "metadata": {},
   "source": [
    "If we test whether the entry population is larger or smaller than the continuation population we can specify a desired plotting colour for each point:"
   ]
  },
  {
   "cell_type": "code",
   "execution_count": 15,
   "id": "747e5cb6",
   "metadata": {},
   "outputs": [
    {
     "data": {
      "text/html": [
       "<div>\n",
       "<style scoped>\n",
       "    .dataframe tbody tr th:only-of-type {\n",
       "        vertical-align: middle;\n",
       "    }\n",
       "\n",
       "    .dataframe tbody tr th {\n",
       "        vertical-align: top;\n",
       "    }\n",
       "\n",
       "    .dataframe thead th {\n",
       "        text-align: right;\n",
       "    }\n",
       "</style>\n",
       "<table border=\"1\" class=\"dataframe\">\n",
       "  <thead>\n",
       "    <tr style=\"text-align: right;\">\n",
       "      <th></th>\n",
       "      <th>CONTPOP</th>\n",
       "      <th>ENTPOP</th>\n",
       "      <th>color</th>\n",
       "    </tr>\n",
       "  </thead>\n",
       "  <tbody>\n",
       "    <tr>\n",
       "      <th>0</th>\n",
       "      <td>30.0</td>\n",
       "      <td>30.0</td>\n",
       "      <td>blue</td>\n",
       "    </tr>\n",
       "    <tr>\n",
       "      <th>1</th>\n",
       "      <td>35.0</td>\n",
       "      <td>20.0</td>\n",
       "      <td>blue</td>\n",
       "    </tr>\n",
       "    <tr>\n",
       "      <th>2</th>\n",
       "      <td>30.0</td>\n",
       "      <td>40.0</td>\n",
       "      <td>red</td>\n",
       "    </tr>\n",
       "    <tr>\n",
       "      <th>3</th>\n",
       "      <td>15.0</td>\n",
       "      <td>25.0</td>\n",
       "      <td>red</td>\n",
       "    </tr>\n",
       "    <tr>\n",
       "      <th>4</th>\n",
       "      <td>25.0</td>\n",
       "      <td>35.0</td>\n",
       "      <td>red</td>\n",
       "    </tr>\n",
       "  </tbody>\n",
       "</table>\n",
       "</div>"
      ],
      "text/plain": [
       "   CONTPOP  ENTPOP color\n",
       "0     30.0    30.0  blue\n",
       "1     35.0    20.0  blue\n",
       "2     30.0    40.0   red\n",
       "3     15.0    25.0   red\n",
       "4     25.0    35.0   red"
      ]
     },
     "execution_count": 15,
     "metadata": {},
     "output_type": "execute_result"
    }
   ],
   "source": [
    "colorme = lambda row: \"red\" if row['CONTPOP'] < row['ENTPOP'] else \"blue\"\n",
    "\n",
    "cont_df['color'] =  cont_df.apply(colorme, axis=1)\n",
    "\n",
    "cont_df[[\"CONTPOP\", \"ENTPOP\", \"color\"]].head()"
   ]
  },
  {
   "cell_type": "markdown",
   "id": "ce41771b",
   "metadata": {},
   "source": [
    "We can use that to colour the points in the scatterplot:"
   ]
  },
  {
   "cell_type": "code",
   "execution_count": 16,
   "id": "9fa3574f",
   "metadata": {},
   "outputs": [
    {
     "data": {
      "image/png": "[encoded data removed]",
      "text/plain": [
       "<Figure size 432x288 with 1 Axes>"
      ]
     },
     "metadata": {
      "needs_background": "light"
     },
     "output_type": "display_data"
    }
   ],
   "source": [
    "cont_100_df = cont_df[cont_full_time_filter] \\\n",
    "                        .sort_values(\"CONTPOP\", ascending=False) \\\n",
    "                        .head(100)\n",
    "\n",
    "cont_100_df.plot(kind=\"scatter\",\n",
    "                 x=\"CONTPOP\", y=\"ENTPOP\",\n",
    "                 # Get a list of colors to apply to the points\n",
    "                 c=cont_100_df[\"color\"]\n",
    "                );"
   ]
  }
 ],
 "metadata": {
  "kernelspec": {
   "display_name": "Python 3",
   "language": "python",
   "name": "python3"
  },
  "language_info": {
   "codemirror_mode": {
    "name": "ipython",
    "version": 3
   },
   "file_extension": ".py",
   "mimetype": "text/x-python",
   "name": "python",
   "nbconvert_exporter": "python",
   "pygments_lexer": "ipython3",
   "version": "3.9.5"
  }
 },
 "nbformat": 4,
 "nbformat_minor": 5
}
