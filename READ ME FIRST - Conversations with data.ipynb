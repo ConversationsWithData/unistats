{
 "cells": [
  {
   "cell_type": "markdown",
   "id": "dcad49cb",
   "metadata": {},
   "source": [
    "# Conversations with data\n",
    "\n",
    "*This set of notebooks (and forthcoming Jupyter Book) provides an example of a conversation with a particular class of data, specifically the Unistats KIS (Key Onformation Set) data and several associated lookup tables.*\n",
    "\n",
    "The *conversations with data* approach was originally developed to support activities created as part of the [Open Knowheldge Foundation](Open Knowledge Foundation) *School of Data*. *Conversations with data* provide walkthroughs of open ended data explorations that demonstrate a variety of data handling and data visualisation skills in the context of a particular dataset or data investigation.\n",
    "\n",
    "*Conversations with data* are presented using interactive notebooks or interactive online texts that support live code execution, although rendered conversations may also be read as a static self-contained text. Data analysis and data visualisations are performed using simple programming code, using a \"line of code at a time\" approach to perform specific tasks and then immediately inspect the outcome of that task.\n",
    "\n",
    "Whilst many people may be more familiar with using spreadsheets shuch as Microsoft Office Excel or Google Sheets to work with datasets, the notebook approach allows us to create a self-contained linear narrative that shows how the conversation progressed and allows us to build on or reuse conversational tricks (or \"recipes\") that have been used previously in the conversation.\n",
    "\n",
    "In contrast, working in a spreadsheet is often more \"reactive\": the history of interactions that took place, as well as the order in which steps were taken, is often lost and the \"performance\" of the analysis, or conversation, is often not easily replayable."
   ]
  },
  {
   "cell_type": "markdown",
   "id": "69e3af92",
   "metadata": {},
   "source": [
    "*This current conversation is a still a work in progress. Guidance on how to use the notebooks interactively will appear in the near future, as will a Jupyter Book / online text book version of the materials.*"
   ]
  }
 ],
 "metadata": {
  "kernelspec": {
   "display_name": "Python 3",
   "language": "python",
   "name": "python3"
  },
  "language_info": {
   "codemirror_mode": {
    "name": "ipython",
    "version": 3
   },
   "file_extension": ".py",
   "mimetype": "text/x-python",
   "name": "python",
   "nbconvert_exporter": "python",
   "pygments_lexer": "ipython3",
   "version": "3.9.5"
  }
 },
 "nbformat": 4,
 "nbformat_minor": 5
}
