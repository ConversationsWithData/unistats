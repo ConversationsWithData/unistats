{
 "cells": [
  {
   "cell_type": "markdown",
   "id": "1624552f",
   "metadata": {},
   "source": [
    "# Making Sense of Datafile Contents\n",
    "\n",
    "If we load in a datafile, it's not necessarily immediately clear what the file relates to based on the slightly opaque column names used within the datafiles.\n",
    "\n",
    "*Experienced users of the data will have some familiarity with the decoding the meaning of the column names, but the rest of us need all the help we can get.*\n",
    "\n",
    "Let's load in our *pandas* package:"
   ]
  },
  {
   "cell_type": "code",
   "execution_count": 3,
   "id": "6b72bb7d",
   "metadata": {},
   "outputs": [],
   "source": [
    "import pandas as pd"
   ]
  },
  {
   "cell_type": "markdown",
   "id": "8c86f211",
   "metadata": {},
   "source": [
    "And preview one of the datafiles:"
   ]
  },
  {
   "cell_type": "code",
   "execution_count": 4,
   "id": "aeb55722",
   "metadata": {},
   "outputs": [
    {
     "data": {
      "text/html": [
       "<div>\n",
       "<style scoped>\n",
       "    .dataframe tbody tr th:only-of-type {\n",
       "        vertical-align: middle;\n",
       "    }\n",
       "\n",
       "    .dataframe tbody tr th {\n",
       "        vertical-align: top;\n",
       "    }\n",
       "\n",
       "    .dataframe thead th {\n",
       "        text-align: right;\n",
       "    }\n",
       "</style>\n",
       "<table border=\"1\" class=\"dataframe\">\n",
       "  <thead>\n",
       "    <tr style=\"text-align: right;\">\n",
       "      <th></th>\n",
       "      <th>PUBUKPRN</th>\n",
       "      <th>UKPRN</th>\n",
       "      <th>KISCOURSEID</th>\n",
       "      <th>KISMODE</th>\n",
       "      <th>ENTUNAVAILREASON</th>\n",
       "      <th>ENTPOP</th>\n",
       "      <th>ENTAGG</th>\n",
       "      <th>ENTSBJ</th>\n",
       "      <th>ACCESS</th>\n",
       "      <th>ALEVEL</th>\n",
       "      <th>BACC</th>\n",
       "      <th>DEGREE</th>\n",
       "      <th>FOUNDTN</th>\n",
       "      <th>NOQUALS</th>\n",
       "      <th>OTHER</th>\n",
       "      <th>OTHERHE</th>\n",
       "    </tr>\n",
       "  </thead>\n",
       "  <tbody>\n",
       "    <tr>\n",
       "      <th>0</th>\n",
       "      <td>10000047</td>\n",
       "      <td>10001143</td>\n",
       "      <td>PSSFDOPTDIS</td>\n",
       "      <td>1</td>\n",
       "      <td>0</td>\n",
       "      <td>30.0</td>\n",
       "      <td>14.0</td>\n",
       "      <td>NaN</td>\n",
       "      <td>0.0</td>\n",
       "      <td>70.0</td>\n",
       "      <td>0.0</td>\n",
       "      <td>15.0</td>\n",
       "      <td>0.0</td>\n",
       "      <td>5.0</td>\n",
       "      <td>10.0</td>\n",
       "      <td>0.0</td>\n",
       "    </tr>\n",
       "    <tr>\n",
       "      <th>1</th>\n",
       "      <td>10000055</td>\n",
       "      <td>10000055</td>\n",
       "      <td>AB20</td>\n",
       "      <td>1</td>\n",
       "      <td>0</td>\n",
       "      <td>20.0</td>\n",
       "      <td>14.0</td>\n",
       "      <td>NaN</td>\n",
       "      <td>0.0</td>\n",
       "      <td>80.0</td>\n",
       "      <td>0.0</td>\n",
       "      <td>0.0</td>\n",
       "      <td>0.0</td>\n",
       "      <td>5.0</td>\n",
       "      <td>10.0</td>\n",
       "      <td>5.0</td>\n",
       "    </tr>\n",
       "    <tr>\n",
       "      <th>2</th>\n",
       "      <td>10000055</td>\n",
       "      <td>10000055</td>\n",
       "      <td>AB29</td>\n",
       "      <td>1</td>\n",
       "      <td>0</td>\n",
       "      <td>10.0</td>\n",
       "      <td>24.0</td>\n",
       "      <td>NaN</td>\n",
       "      <td>0.0</td>\n",
       "      <td>80.0</td>\n",
       "      <td>0.0</td>\n",
       "      <td>10.0</td>\n",
       "      <td>0.0</td>\n",
       "      <td>10.0</td>\n",
       "      <td>0.0</td>\n",
       "      <td>0.0</td>\n",
       "    </tr>\n",
       "    <tr>\n",
       "      <th>3</th>\n",
       "      <td>10000055</td>\n",
       "      <td>10000055</td>\n",
       "      <td>AB33</td>\n",
       "      <td>1</td>\n",
       "      <td>0</td>\n",
       "      <td>20.0</td>\n",
       "      <td>14.0</td>\n",
       "      <td>NaN</td>\n",
       "      <td>0.0</td>\n",
       "      <td>90.0</td>\n",
       "      <td>0.0</td>\n",
       "      <td>5.0</td>\n",
       "      <td>0.0</td>\n",
       "      <td>0.0</td>\n",
       "      <td>5.0</td>\n",
       "      <td>0.0</td>\n",
       "    </tr>\n",
       "    <tr>\n",
       "      <th>4</th>\n",
       "      <td>10000055</td>\n",
       "      <td>10000055</td>\n",
       "      <td>AB35</td>\n",
       "      <td>1</td>\n",
       "      <td>0</td>\n",
       "      <td>25.0</td>\n",
       "      <td>13.0</td>\n",
       "      <td>CAH06-01-01</td>\n",
       "      <td>0.0</td>\n",
       "      <td>75.0</td>\n",
       "      <td>0.0</td>\n",
       "      <td>0.0</td>\n",
       "      <td>0.0</td>\n",
       "      <td>5.0</td>\n",
       "      <td>10.0</td>\n",
       "      <td>10.0</td>\n",
       "    </tr>\n",
       "  </tbody>\n",
       "</table>\n",
       "</div>"
      ],
      "text/plain": [
       "   PUBUKPRN     UKPRN  KISCOURSEID  KISMODE  ENTUNAVAILREASON  ENTPOP  ENTAGG  \\\n",
       "0  10000047  10001143  PSSFDOPTDIS        1                 0    30.0    14.0   \n",
       "1  10000055  10000055         AB20        1                 0    20.0    14.0   \n",
       "2  10000055  10000055         AB29        1                 0    10.0    24.0   \n",
       "3  10000055  10000055         AB33        1                 0    20.0    14.0   \n",
       "4  10000055  10000055         AB35        1                 0    25.0    13.0   \n",
       "\n",
       "        ENTSBJ  ACCESS  ALEVEL  BACC  DEGREE  FOUNDTN  NOQUALS  OTHER  OTHERHE  \n",
       "0          NaN     0.0    70.0   0.0    15.0      0.0      5.0   10.0      0.0  \n",
       "1          NaN     0.0    80.0   0.0     0.0      0.0      5.0   10.0      5.0  \n",
       "2          NaN     0.0    80.0   0.0    10.0      0.0     10.0    0.0      0.0  \n",
       "3          NaN     0.0    90.0   0.0     5.0      0.0      0.0    5.0      0.0  \n",
       "4  CAH06-01-01     0.0    75.0   0.0     0.0      0.0      5.0   10.0     10.0  "
      ]
     },
     "execution_count": 4,
     "metadata": {},
     "output_type": "execute_result"
    }
   ],
   "source": [
    "entry_df = pd.read_csv(\"on_2021_08_11_07_24_51/ENTRY.csv\")\n",
    "entry_df.head()"
   ]
  },
  {
   "cell_type": "markdown",
   "id": "84c2fb13",
   "metadata": {},
   "source": [
    "It's not necessarily obvious what each of those columns relates to, so let's load in the data we scraped that provides a simple description of each column:"
   ]
  },
  {
   "cell_type": "code",
   "execution_count": 5,
   "id": "44fb6fa1",
   "metadata": {},
   "outputs": [
    {
     "data": {
      "text/html": [
       "<div>\n",
       "<style scoped>\n",
       "    .dataframe tbody tr th:only-of-type {\n",
       "        vertical-align: middle;\n",
       "    }\n",
       "\n",
       "    .dataframe tbody tr th {\n",
       "        vertical-align: top;\n",
       "    }\n",
       "\n",
       "    .dataframe thead th {\n",
       "        text-align: right;\n",
       "    }\n",
       "</style>\n",
       "<table border=\"1\" class=\"dataframe\">\n",
       "  <thead>\n",
       "    <tr style=\"text-align: right;\">\n",
       "      <th></th>\n",
       "      <th>Field name</th>\n",
       "      <th>Description</th>\n",
       "      <th>Min/Max occurs</th>\n",
       "      <th>Field Length</th>\n",
       "      <th>csv_file</th>\n",
       "      <th>colname</th>\n",
       "    </tr>\n",
       "  </thead>\n",
       "  <tbody>\n",
       "    <tr>\n",
       "      <th>0</th>\n",
       "      <td>KIS.Collection</td>\n",
       "      <td>HESA Collection reference identifier</td>\n",
       "      <td>0/1</td>\n",
       "      <td>6</td>\n",
       "      <td>KIS</td>\n",
       "      <td>Collection</td>\n",
       "    </tr>\n",
       "    <tr>\n",
       "      <th>1</th>\n",
       "      <td>Institution.UKPRN</td>\n",
       "      <td>UK provider reference number, which is the uni...</td>\n",
       "      <td>1/1</td>\n",
       "      <td>8</td>\n",
       "      <td>Institution</td>\n",
       "      <td>UKPRN</td>\n",
       "    </tr>\n",
       "    <tr>\n",
       "      <th>2</th>\n",
       "      <td>Institution.PUBUKPRN</td>\n",
       "      <td>Publication UK provider reference number for w...</td>\n",
       "      <td>1/1</td>\n",
       "      <td>8</td>\n",
       "      <td>Institution</td>\n",
       "      <td>PUBUKPRN</td>\n",
       "    </tr>\n",
       "    <tr>\n",
       "      <th>3</th>\n",
       "      <td>Institution.COUNTRY</td>\n",
       "      <td>Country of provider (England, Wales, Northern ...</td>\n",
       "      <td>1/1</td>\n",
       "      <td>2</td>\n",
       "      <td>Institution</td>\n",
       "      <td>COUNTRY</td>\n",
       "    </tr>\n",
       "    <tr>\n",
       "      <th>4</th>\n",
       "      <td>Institution.PUBUKPRNCOUNTRY</td>\n",
       "      <td>Country of publication provider (England, Wale...</td>\n",
       "      <td>1/1</td>\n",
       "      <td>2</td>\n",
       "      <td>Institution</td>\n",
       "      <td>PUBUKPRNCOUNTRY</td>\n",
       "    </tr>\n",
       "  </tbody>\n",
       "</table>\n",
       "</div>"
      ],
      "text/plain": [
       "                    Field name  \\\n",
       "0               KIS.Collection   \n",
       "1            Institution.UKPRN   \n",
       "2         Institution.PUBUKPRN   \n",
       "3          Institution.COUNTRY   \n",
       "4  Institution.PUBUKPRNCOUNTRY   \n",
       "\n",
       "                                         Description Min/Max occurs  \\\n",
       "0               HESA Collection reference identifier            0/1   \n",
       "1  UK provider reference number, which is the uni...            1/1   \n",
       "2  Publication UK provider reference number for w...            1/1   \n",
       "3  Country of provider (England, Wales, Northern ...            1/1   \n",
       "4  Country of publication provider (England, Wale...            1/1   \n",
       "\n",
       "   Field Length     csv_file          colname  \n",
       "0             6          KIS       Collection  \n",
       "1             8  Institution            UKPRN  \n",
       "2             8  Institution         PUBUKPRN  \n",
       "3             2  Institution          COUNTRY  \n",
       "4             2  Institution  PUBUKPRNCOUNTRY  "
      ]
     },
     "execution_count": 5,
     "metadata": {},
     "output_type": "execute_result"
    }
   ],
   "source": [
    "colname_metadata = pd.read_csv(\"colnames_metadata.csv\")\n",
    "colname_metadata.head()"
   ]
  },
  {
   "cell_type": "markdown",
   "id": "05077440",
   "metadata": {},
   "source": [
    "We can use the following recipe to print the description of a column given the column name:"
   ]
  },
  {
   "cell_type": "code",
   "execution_count": 6,
   "id": "b4245fb2",
   "metadata": {},
   "outputs": [
    {
     "name": "stdout",
     "output_type": "stream",
     "text": [
      "Number of students in the population from which the entry qualification data is derived for the course\n"
     ]
    }
   ],
   "source": [
    "txt = colname_metadata[colname_metadata[\"colname\"]==\"ENTPOP\"][\"Description\"].values[0]\n",
    "\n",
    "print(txt)"
   ]
  },
  {
   "cell_type": "markdown",
   "id": "3c689dd5",
   "metadata": {},
   "source": [
    "We can now generate a report describing the columns in the dataframe loaded in from a particular dataset:"
   ]
  },
  {
   "cell_type": "code",
   "execution_count": 9,
   "id": "2cb21174",
   "metadata": {},
   "outputs": [
    {
     "name": "stdout",
     "output_type": "stream",
     "text": [
      "PUBUKPRN: Publication UK provider reference number for where the course is primarily taught\n",
      "UKPRN: UK provider reference number, which is the unique identifier allocated to providers by the UK Register of Learning Providers (UKRLP)\n",
      "KISCOURSEID: An identifier which uniquely identifies a course within a provider\n",
      "KISMODE: The mode of the KIS course (full-time, part-time, both)\n",
      "ENTUNAVAILREASON: Indicator of the reason why data for a course may not be available\n",
      "ENTPOP: Number of students in the population from which the entry qualification data is derived for the course\n",
      "ENTAGG: Aggregation level applied to the entry data for the course\n",
      "ENTSBJ: CAH Level subject code\n",
      "ACCESS: Proportion of students whose highest qualification on entry is an access course\n",
      "ALEVEL: Proportion of students whose highest qualification on entry is A level or (Scottish) Highers\n",
      "BACC: Proportion of students whose highest qualification on entry is an International Baccalaureate\n",
      "DEGREE: Proportion of students whose highest qualification on entry is a degree or higher qualification\n",
      "FOUNDTN: Proportion of students whose highest qualification on entry is a foundation course\n",
      "NOQUALS: Proportion of students with no qualifications on entry\n",
      "OTHER: Proportion of students with other qualifications on entry\n",
      "OTHERHE: Proportion of students whose highest qualification on entry is another HE qualification\n"
     ]
    }
   ],
   "source": [
    "for colname in entry_df.columns:\n",
    "    txt = colname_metadata[colname_metadata[\"colname\"]==colname][\"Description\"].values[0]\n",
    "    print(f\"{colname}: {txt}\")"
   ]
  }
 ],
 "metadata": {
  "kernelspec": {
   "display_name": "Python 3",
   "language": "python",
   "name": "python3"
  },
  "language_info": {
   "codemirror_mode": {
    "name": "ipython",
    "version": 3
   },
   "file_extension": ".py",
   "mimetype": "text/x-python",
   "name": "python",
   "nbconvert_exporter": "python",
   "pygments_lexer": "ipython3",
   "version": "3.9.5"
  }
 },
 "nbformat": 4,
 "nbformat_minor": 5
}
